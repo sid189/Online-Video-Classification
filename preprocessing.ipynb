{
  "nbformat": 4,
  "nbformat_minor": 0,
  "metadata": {
    "colab": {
      "name": "preprocessing.ipynb",
      "version": "0.3.2",
      "provenance": [],
      "include_colab_link": true
    },
    "kernelspec": {
      "name": "python3",
      "display_name": "Python 3"
    }
  },
  "cells": [
    {
      "cell_type": "markdown",
      "metadata": {
        "id": "view-in-github",
        "colab_type": "text"
      },
      "source": [
        "<a href=\"https://colab.research.google.com/github/sid189/Online-Video-Classification/blob/master/preprocessing.ipynb\" target=\"_parent\"><img src=\"https://colab.research.google.com/assets/colab-badge.svg\" alt=\"Open In Colab\"/></a>"
      ]
    },
    {
      "metadata": {
        "id": "Q6GWQwtrpRQr",
        "colab_type": "code",
        "colab": {
          "base_uri": "https://localhost:8080/",
          "height": 34
        },
        "outputId": "e0ee3ca6-f474-49f7-c689-0326fb668b99"
      },
      "cell_type": "code",
      "source": [
        "import os\n",
        "import math   # for mathematical operations\n",
        "import matplotlib.pyplot as plt    # for plotting the images\n",
        "%matplotlib inline\n",
        "import pandas as pd\n",
        "from keras.preprocessing import image   # for preprocessing the images\n",
        "import numpy as np    # for mathematical operations\n",
        "import cv2     # for capturing videos\n",
        "from keras.utils import np_utils\n",
        "from skimage.transform import resize   # for resizing images\n",
        "from google.colab import drive\n",
        "drive.mount('/content/drive/')"
      ],
      "execution_count": 7,
      "outputs": [
        {
          "output_type": "stream",
          "text": [
            "Drive already mounted at /content/drive/; to attempt to forcibly remount, call drive.mount(\"/content/drive/\", force_remount=True).\n"
          ],
          "name": "stdout"
        }
      ]
    },
    {
      "metadata": {
        "id": "2ramJmvqpa19",
        "colab_type": "code",
        "colab": {
          "base_uri": "https://localhost:8080/",
          "height": 52
        },
        "outputId": "9d76462e-d3cf-454b-cbc0-8e21389b9417"
      },
      "cell_type": "code",
      "source": [
        "dataset_path = \"/content/drive/My Drive/ADBI Capstone/UCF101/UCF-101\"\n",
        "class_labels = os.listdir(dataset_path)\n",
        "print(len(class_labels))\n",
        "\n",
        "labels = []\n",
        "videos = []\n",
        "for directory in class_labels:\n",
        "\tdir_path = os.path.join(dataset_path, directory)\n",
        "\tfor file_name in os.listdir(dir_path):\n",
        "\t\tfile_path = os.path.join(dir_path, file_name);\n",
        "\t\tcap = cv2.VideoCapture(file_path)\n",
        "\t\tframeRate = cap.get(5)\n",
        "\t\tx=1\n",
        "\t\tcount = 0\n",
        "\t\t\n",
        "\t\tvideo = []\n",
        "\t\twhile(cap.isOpened()):\n",
        "\t\t\tframeId = cap.get(1) #current frame number\n",
        "\t\t\tret, frame = cap.read()\n",
        "\t\t\tif (ret != True):\n",
        "\t\t\t\tbreak\n",
        "\t\t\t#print(frameId)\n",
        "\t\t\tif (frameId % math.floor(frameRate) == 0):\n",
        "\t\t\t\t#print(\"hello\")\n",
        "\t\t\t\tvideo.append(frame)\n",
        "\t\t\t\tcount+=1\n",
        "\t\t\t\t#cv2.imwrite(filename, frame)\n",
        "\t\tvideo = np.array(video)\n",
        "\t\tvideos.append(video)\n",
        "\t\tlabels.append(directory)\n",
        "\t\tcap.release()\n",
        "\n",
        "print(videos[0].shape, labels[0])"
      ],
      "execution_count": 15,
      "outputs": [
        {
          "output_type": "stream",
          "text": [
            "101\n",
            "(5, 240, 320, 3) BalanceBeam\n"
          ],
          "name": "stdout"
        }
      ]
    }
  ]
}